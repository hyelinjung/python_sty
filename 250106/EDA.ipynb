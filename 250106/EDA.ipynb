{
 "cells": [
  {
   "cell_type": "code",
   "execution_count": 3,
   "metadata": {},
   "outputs": [
    {
     "name": "stderr",
     "output_type": "stream",
     "text": [
      "Summarize dataset: 100%|██████████| 39/39 [00:03<00:00, 11.16it/s, Completed]                                       \n",
      "Generate report structure: 100%|██████████| 1/1 [00:02<00:00,  2.19s/it]\n",
      "Render HTML: 100%|██████████| 1/1 [00:00<00:00,  1.35it/s]\n",
      "Export report to file: 100%|██████████| 1/1 [00:00<00:00, 143.08it/s]\n"
     ]
    }
   ],
   "source": [
    "import pandas as pd\n",
    "from ydata_profiling import ProfileReport\n",
    "\n",
    "# 데이터 불러오기\n",
    "df = pd.read_csv('../dataSet/data.csv', encoding='cp949')\n",
    "\n",
    "# 프로파일링 리포트 생성\n",
    "profile = ProfileReport(\n",
    "    df,\n",
    "    title=\"EDA 보고서\",\n",
    "    explorative=True,\n",
    "    html={\n",
    "        'style': {\n",
    "            'theme': 'united'  # 허용된 theme 중 하나로 변경\n",
    "        }\n",
    "    }\n",
    ")\n",
    "\n",
    "# 리포트 저장 및 출력\n",
    "profile.to_file(\"../report/eda_report.html\")"
   ]
  }
 ],
 "metadata": {
  "kernelspec": {
   "display_name": ".venv",
   "language": "python",
   "name": "python3"
  },
  "language_info": {
   "codemirror_mode": {
    "name": "ipython",
    "version": 3
   },
   "file_extension": ".py",
   "mimetype": "text/x-python",
   "name": "python",
   "nbconvert_exporter": "python",
   "pygments_lexer": "ipython3",
   "version": "3.10.6"
  }
 },
 "nbformat": 4,
 "nbformat_minor": 2
}
