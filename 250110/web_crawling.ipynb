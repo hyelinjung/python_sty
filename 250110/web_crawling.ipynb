{
 "cells": [
  {
   "cell_type": "code",
   "execution_count": 1,
   "metadata": {},
   "outputs": [],
   "source": [
    "# 동적 selenium 정적 bs4\n",
    "from selenium import webdriver\n",
    "from selenium.webdriver.chrome.service import Service\n",
    "from selenium.webdriver.common.by import By\n",
    "from selenium.webdriver.support.ui import WebDriverWait\n",
    "from selenium.webdriver.support import expected_conditions as EC\n",
    "from webdriver_manager.chrome import ChromeDriverManager\n",
    "from bs4 import BeautifulSoup\n",
    "import time\n",
    "import pandas as pd"
   ]
  },
  {
   "cell_type": "code",
   "execution_count": 3,
   "metadata": {},
   "outputs": [],
   "source": [
    "# 드라이버 설정\n",
    "service = Service(ChromeDriverManager().install())\n",
    "driver = webdriver.Chrome(service=service)"
   ]
  },
  {
   "cell_type": "code",
   "execution_count": 8,
   "metadata": {},
   "outputs": [
    {
     "name": "stdout",
     "output_type": "stream",
     "text": [
      "수집된 뉴스 링크 수: 3\n"
     ]
    }
   ],
   "source": [
    "# 검색어 설정\n",
    "keyword = \"파이썬\"\n",
    "search_url = f\"https://search.naver.com/search.naver?where=news&query={keyword}\"\n",
    "\n",
    "# 검색 페이지 접속\n",
    "driver.get(search_url)\n",
    "time.sleep(2)\n",
    "\n",
    "# 뉴스 링크 수집\n",
    "news_links = []\n",
    "links = driver.find_elements(By.CSS_SELECTOR, \"a.info\")\n",
    "\n",
    "# 네이버 뉴스 링크만 수집 (3개)\n",
    "for link in links:\n",
    "    if len(news_links) >= 3:  # 원하는 기사 수로 수정 가능\n",
    "        break\n",
    "    href = link.get_attribute('href')\n",
    "    if href and 'news.naver.com' in href:\n",
    "        news_links.append(href)\n",
    "\n",
    "print(f\"수집된 뉴스 링크 수: {len(news_links)}\")"
   ]
  },
  {
   "cell_type": "code",
   "execution_count": 9,
   "metadata": {},
   "outputs": [
    {
     "name": "stdout",
     "output_type": "stream",
     "text": [
      "제목:‘파이썬과 챗GPT의 만남’ 코딩밸리, ‘ChatGPT로 파이썬 제대로 활용하기’ 강의 업데이트\n",
      "--------------------------------------------------\n",
      "제목:과기정보연, 대전교육청 협력 학습데이터 분석 교육 프로그램 운영\n",
      "--------------------------------------------------\n",
      "제목:[단독]구광모 힘주는 AI…LG전자, 공공기관에 'AI 노하우' 공유\n",
      "--------------------------------------------------\n"
     ]
    }
   ],
   "source": [
    "new_data =[]\n",
    "\n",
    "for url in news_links:\n",
    "    driver.get(url)\n",
    "    time.sleep(2)\n",
    "    \n",
    "    soup = BeautifulSoup(driver.page_source, 'html.parser')\n",
    "    \n",
    "    try:\n",
    "        title = soup.select_one('#title_area span').text.strip()\n",
    "        \n",
    "        content = soup.select_one('#dic_area').text.strip()\n",
    "        new_data.append({\n",
    "            'title':title,\n",
    "            'content':content,\n",
    "            'url':url\n",
    "        })\n",
    "        \n",
    "        print(f'제목:{title}')\n",
    "        print(\"-\" * 50)\n",
    "    except Exception as e:\n",
    "        print(f'Error with {url}:  {e}')\n",
    "driver.quit()"
   ]
  },
  {
   "cell_type": "code",
   "execution_count": 12,
   "metadata": {},
   "outputs": [
    {
     "name": "stdout",
     "output_type": "stream",
     "text": [
      "\n",
      "==수집된 뉴스 목록===\n",
      "\n",
      "[기사 1]\n",
      "제목: ‘파이썬과 챗GPT의 만남’ 코딩밸리, ‘ChatGPT로 파이썬 제대로 활용하기’ 강의 업데이트\n",
      "url: https://n.news.naver.com/mnews/article/081/0003509796?sid=101\n",
      "--------------------------------------------------\n",
      "\n",
      "[기사 2]\n",
      "제목: 과기정보연, 대전교육청 협력 학습데이터 분석 교육 프로그램 운영\n",
      "url: https://n.news.naver.com/mnews/article/421/0008012476?sid=102\n",
      "--------------------------------------------------\n",
      "\n",
      "[기사 3]\n",
      "제목: [단독]구광모 힘주는 AI…LG전자, 공공기관에 'AI 노하우' 공유\n",
      "url: https://n.news.naver.com/mnews/article/018/0005913701?sid=101\n",
      "--------------------------------------------------\n",
      "\n",
      "결과가 파이썬_news.xlsx 파일로 저장되었습니다.\n"
     ]
    }
   ],
   "source": [
    "df = pd.DataFrame(new_data)\n",
    "\n",
    "print('\\n==수집된 뉴스 목록===')\n",
    "for i, row in df.iterrows():\n",
    "    print(f'\\n[기사 {i+1}]')\n",
    "    print(f\"제목: {row['title']}\")\n",
    "    print(f\"url: {row['url']}\")\n",
    "    print('-'*50)\n",
    "    \n",
    "# Excel 파일로 저장\n",
    "df.to_excel(f'{keyword}_news.xlsx', index=False)\n",
    "print(f\"\\n결과가 {keyword}_news.xlsx 파일로 저장되었습니다.\")"
   ]
  }
 ],
 "metadata": {
  "kernelspec": {
   "display_name": ".venv",
   "language": "python",
   "name": "python3"
  },
  "language_info": {
   "codemirror_mode": {
    "name": "ipython",
    "version": 3
   },
   "file_extension": ".py",
   "mimetype": "text/x-python",
   "name": "python",
   "nbconvert_exporter": "python",
   "pygments_lexer": "ipython3",
   "version": "3.10.6"
  }
 },
 "nbformat": 4,
 "nbformat_minor": 2
}
