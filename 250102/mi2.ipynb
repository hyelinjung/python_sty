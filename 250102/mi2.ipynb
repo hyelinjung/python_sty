{
 "cells": [
  {
   "cell_type": "markdown",
   "metadata": {},
   "source": [
    "# 성능지표 분석"
   ]
  },
  {
   "cell_type": "markdown",
   "metadata": {},
   "source": [
    "## MSE 평균제곱오차"
   ]
  },
  {
   "cell_type": "code",
   "execution_count": 1,
   "metadata": {},
   "outputs": [],
   "source": [
    "# 실제값과 예측값 정의\n",
    "actual_values = [3,-0.5,2,7] \n",
    "predicted_values=[2.5,0,2,8]"
   ]
  },
  {
   "cell_type": "code",
   "execution_count": 3,
   "metadata": {},
   "outputs": [
    {
     "name": "stdout",
     "output_type": "stream",
     "text": [
      "Mean Squared Error: 0.375\n"
     ]
    }
   ],
   "source": [
    "# MSE 계산\n",
    "# 각 오차를 제곱\n",
    "squared_errors =[(a-p) ** 2 for a,p in zip(actual_values,predicted_values)]\n",
    "# 제곱 오차의 평균\n",
    "mse = sum(squared_errors)/len(squared_errors)\n",
    "\n",
    "# 결과출력\n",
    "print('Mean Squared Error:',mse)"
   ]
  },
  {
   "cell_type": "markdown",
   "metadata": {},
   "source": [
    "## RMSE 평균제곱근오차"
   ]
  },
  {
   "cell_type": "code",
   "execution_count": 4,
   "metadata": {},
   "outputs": [
    {
     "name": "stdout",
     "output_type": "stream",
     "text": [
      "Root Mean Squared Error: 0.6123724356957945\n"
     ]
    }
   ],
   "source": [
    "#실제값과 예측값 정의\n",
    "actual_values = [3,-0.5,2,7]\n",
    "predicted_values = [2.5,0,2,8]\n",
    "\n",
    "#RMSE 계산\n",
    "squared_errors =[(a-p) ** 2 for a, p in zip(actual_values,predicted_values)]\n",
    "mse = sum(squared_errors)/len(squared_errors)\n",
    "# 루트씌움\n",
    "rmse = mse ** 0.5 \n",
    "# 결과출력\n",
    "print('Root Mean Squared Error:',rmse)"
   ]
  },
  {
   "cell_type": "markdown",
   "metadata": {},
   "source": [
    "# MAE 평균절대오차"
   ]
  },
  {
   "cell_type": "code",
   "execution_count": 5,
   "metadata": {},
   "outputs": [
    {
     "name": "stdout",
     "output_type": "stream",
     "text": [
      "Mean Absolute Error: 0.5\n"
     ]
    }
   ],
   "source": [
    "# 실제값과 예측값 정의\n",
    "actual_values =actual_values = [3,-0.5,2,7]\n",
    "predicted_values = [2.5,0,2,8]\n",
    "\n",
    "# MAE 계산\n",
    "absolute_errors= [abs(a-p) for a,p in zip(actual_values,predicted_values)]\n",
    "mae = sum(absolute_errors)/len(absolute_errors)\n",
    "\n",
    "print('Mean Absolute Error:',mae)"
   ]
  }
 ],
 "metadata": {
  "kernelspec": {
   "display_name": ".venv",
   "language": "python",
   "name": "python3"
  },
  "language_info": {
   "codemirror_mode": {
    "name": "ipython",
    "version": 3
   },
   "file_extension": ".py",
   "mimetype": "text/x-python",
   "name": "python",
   "nbconvert_exporter": "python",
   "pygments_lexer": "ipython3",
   "version": "3.10.6"
  }
 },
 "nbformat": 4,
 "nbformat_minor": 2
}
